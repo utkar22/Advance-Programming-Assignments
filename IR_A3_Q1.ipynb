{
  "nbformat": 4,
  "nbformat_minor": 0,
  "metadata": {
    "colab": {
      "provenance": [],
      "authorship_tag": "ABX9TyNXB1XoWPV0H/K2kREFWMvt",
      "include_colab_link": true
    },
    "kernelspec": {
      "name": "python3",
      "display_name": "Python 3"
    },
    "language_info": {
      "name": "python"
    }
  },
  "cells": [
    {
      "cell_type": "markdown",
      "metadata": {
        "id": "view-in-github",
        "colab_type": "text"
      },
      "source": [
        "<a href=\"https://colab.research.google.com/github/utkar22/Advance-Programming-Assignments/blob/main/IR_A3_Q1.ipynb\" target=\"_parent\"><img src=\"https://colab.research.google.com/assets/colab-badge.svg\" alt=\"Open In Colab\"/></a>"
      ]
    },
    {
      "cell_type": "markdown",
      "source": [
        "Navigate to the folder IR_A3 on my drive"
      ],
      "metadata": {
        "id": "WLinRYCgSYL-"
      }
    },
    {
      "cell_type": "code",
      "execution_count": 1,
      "metadata": {
        "colab": {
          "base_uri": "https://localhost:8080/"
        },
        "id": "ZkE6DS3rSFRT",
        "outputId": "78d0bcf8-9cc7-41c9-ae77-a677ffb174de"
      },
      "outputs": [
        {
          "output_type": "stream",
          "name": "stdout",
          "text": [
            "Mounted at /content/drive\n",
            "/content/drive/MyDrive/IR_A3\n"
          ]
        }
      ],
      "source": [
        "from google.colab import drive\n",
        "drive.mount('/content/drive')\n",
        "%cd /content/drive/MyDrive/IR_A3"
      ]
    },
    {
      "cell_type": "code",
      "source": [
        "import pandas as pd"
      ],
      "metadata": {
        "id": "AtmD5hjJSoSG"
      },
      "execution_count": 2,
      "outputs": []
    },
    {
      "cell_type": "code",
      "source": [
        "df = pd.read_csv('reddit.tsv', sep='\\t')"
      ],
      "metadata": {
        "id": "7xdQxSamSvpI"
      },
      "execution_count": 3,
      "outputs": []
    },
    {
      "cell_type": "code",
      "source": [
        "df.head()"
      ],
      "metadata": {
        "colab": {
          "base_uri": "https://localhost:8080/",
          "height": 206
        },
        "id": "JaUvhAsWTHev",
        "outputId": "eab6ee0f-da30-4073-c5c5-4432d80b1ab7"
      },
      "execution_count": 4,
      "outputs": [
        {
          "output_type": "execute_result",
          "data": {
            "text/plain": [
              "  SOURCE_SUBREDDIT TARGET_SUBREDDIT  POST_ID            TIMESTAMP  \\\n",
              "0  leagueoflegends  teamredditteams  1u4nrps  2013-12-31 16:39:58   \n",
              "1       theredlion           soccer   1u4qkd  2013-12-31 18:18:37   \n",
              "2     inlandempire           bikela  1u4qlzs  2014-01-01 14:54:35   \n",
              "3              nfl              cfb  1u4sjvs  2013-12-31 17:37:55   \n",
              "4       playmygame          gamedev  1u4w5ss  2014-01-01 02:51:13   \n",
              "\n",
              "   LINK_SENTIMENT                                         PROPERTIES  \n",
              "0               1  345.0,298.0,0.75652173913,0.0173913043478,0.08...  \n",
              "1              -1  101.0,98.0,0.742574257426,0.019801980198,0.049...  \n",
              "2               1  85.0,85.0,0.752941176471,0.0235294117647,0.082...  \n",
              "3               1  1124.0,949.0,0.772241992883,0.0017793594306,0....  \n",
              "4               1  715.0,622.0,0.777622377622,0.00699300699301,0....  "
            ],
            "text/html": [
              "\n",
              "  <div id=\"df-8632b897-a39e-47e7-a8a4-794ed6579580\">\n",
              "    <div class=\"colab-df-container\">\n",
              "      <div>\n",
              "<style scoped>\n",
              "    .dataframe tbody tr th:only-of-type {\n",
              "        vertical-align: middle;\n",
              "    }\n",
              "\n",
              "    .dataframe tbody tr th {\n",
              "        vertical-align: top;\n",
              "    }\n",
              "\n",
              "    .dataframe thead th {\n",
              "        text-align: right;\n",
              "    }\n",
              "</style>\n",
              "<table border=\"1\" class=\"dataframe\">\n",
              "  <thead>\n",
              "    <tr style=\"text-align: right;\">\n",
              "      <th></th>\n",
              "      <th>SOURCE_SUBREDDIT</th>\n",
              "      <th>TARGET_SUBREDDIT</th>\n",
              "      <th>POST_ID</th>\n",
              "      <th>TIMESTAMP</th>\n",
              "      <th>LINK_SENTIMENT</th>\n",
              "      <th>PROPERTIES</th>\n",
              "    </tr>\n",
              "  </thead>\n",
              "  <tbody>\n",
              "    <tr>\n",
              "      <th>0</th>\n",
              "      <td>leagueoflegends</td>\n",
              "      <td>teamredditteams</td>\n",
              "      <td>1u4nrps</td>\n",
              "      <td>2013-12-31 16:39:58</td>\n",
              "      <td>1</td>\n",
              "      <td>345.0,298.0,0.75652173913,0.0173913043478,0.08...</td>\n",
              "    </tr>\n",
              "    <tr>\n",
              "      <th>1</th>\n",
              "      <td>theredlion</td>\n",
              "      <td>soccer</td>\n",
              "      <td>1u4qkd</td>\n",
              "      <td>2013-12-31 18:18:37</td>\n",
              "      <td>-1</td>\n",
              "      <td>101.0,98.0,0.742574257426,0.019801980198,0.049...</td>\n",
              "    </tr>\n",
              "    <tr>\n",
              "      <th>2</th>\n",
              "      <td>inlandempire</td>\n",
              "      <td>bikela</td>\n",
              "      <td>1u4qlzs</td>\n",
              "      <td>2014-01-01 14:54:35</td>\n",
              "      <td>1</td>\n",
              "      <td>85.0,85.0,0.752941176471,0.0235294117647,0.082...</td>\n",
              "    </tr>\n",
              "    <tr>\n",
              "      <th>3</th>\n",
              "      <td>nfl</td>\n",
              "      <td>cfb</td>\n",
              "      <td>1u4sjvs</td>\n",
              "      <td>2013-12-31 17:37:55</td>\n",
              "      <td>1</td>\n",
              "      <td>1124.0,949.0,0.772241992883,0.0017793594306,0....</td>\n",
              "    </tr>\n",
              "    <tr>\n",
              "      <th>4</th>\n",
              "      <td>playmygame</td>\n",
              "      <td>gamedev</td>\n",
              "      <td>1u4w5ss</td>\n",
              "      <td>2014-01-01 02:51:13</td>\n",
              "      <td>1</td>\n",
              "      <td>715.0,622.0,0.777622377622,0.00699300699301,0....</td>\n",
              "    </tr>\n",
              "  </tbody>\n",
              "</table>\n",
              "</div>\n",
              "      <button class=\"colab-df-convert\" onclick=\"convertToInteractive('df-8632b897-a39e-47e7-a8a4-794ed6579580')\"\n",
              "              title=\"Convert this dataframe to an interactive table.\"\n",
              "              style=\"display:none;\">\n",
              "        \n",
              "  <svg xmlns=\"http://www.w3.org/2000/svg\" height=\"24px\"viewBox=\"0 0 24 24\"\n",
              "       width=\"24px\">\n",
              "    <path d=\"M0 0h24v24H0V0z\" fill=\"none\"/>\n",
              "    <path d=\"M18.56 5.44l.94 2.06.94-2.06 2.06-.94-2.06-.94-.94-2.06-.94 2.06-2.06.94zm-11 1L8.5 8.5l.94-2.06 2.06-.94-2.06-.94L8.5 2.5l-.94 2.06-2.06.94zm10 10l.94 2.06.94-2.06 2.06-.94-2.06-.94-.94-2.06-.94 2.06-2.06.94z\"/><path d=\"M17.41 7.96l-1.37-1.37c-.4-.4-.92-.59-1.43-.59-.52 0-1.04.2-1.43.59L10.3 9.45l-7.72 7.72c-.78.78-.78 2.05 0 2.83L4 21.41c.39.39.9.59 1.41.59.51 0 1.02-.2 1.41-.59l7.78-7.78 2.81-2.81c.8-.78.8-2.07 0-2.86zM5.41 20L4 18.59l7.72-7.72 1.47 1.35L5.41 20z\"/>\n",
              "  </svg>\n",
              "      </button>\n",
              "      \n",
              "  <style>\n",
              "    .colab-df-container {\n",
              "      display:flex;\n",
              "      flex-wrap:wrap;\n",
              "      gap: 12px;\n",
              "    }\n",
              "\n",
              "    .colab-df-convert {\n",
              "      background-color: #E8F0FE;\n",
              "      border: none;\n",
              "      border-radius: 50%;\n",
              "      cursor: pointer;\n",
              "      display: none;\n",
              "      fill: #1967D2;\n",
              "      height: 32px;\n",
              "      padding: 0 0 0 0;\n",
              "      width: 32px;\n",
              "    }\n",
              "\n",
              "    .colab-df-convert:hover {\n",
              "      background-color: #E2EBFA;\n",
              "      box-shadow: 0px 1px 2px rgba(60, 64, 67, 0.3), 0px 1px 3px 1px rgba(60, 64, 67, 0.15);\n",
              "      fill: #174EA6;\n",
              "    }\n",
              "\n",
              "    [theme=dark] .colab-df-convert {\n",
              "      background-color: #3B4455;\n",
              "      fill: #D2E3FC;\n",
              "    }\n",
              "\n",
              "    [theme=dark] .colab-df-convert:hover {\n",
              "      background-color: #434B5C;\n",
              "      box-shadow: 0px 1px 3px 1px rgba(0, 0, 0, 0.15);\n",
              "      filter: drop-shadow(0px 1px 2px rgba(0, 0, 0, 0.3));\n",
              "      fill: #FFFFFF;\n",
              "    }\n",
              "  </style>\n",
              "\n",
              "      <script>\n",
              "        const buttonEl =\n",
              "          document.querySelector('#df-8632b897-a39e-47e7-a8a4-794ed6579580 button.colab-df-convert');\n",
              "        buttonEl.style.display =\n",
              "          google.colab.kernel.accessAllowed ? 'block' : 'none';\n",
              "\n",
              "        async function convertToInteractive(key) {\n",
              "          const element = document.querySelector('#df-8632b897-a39e-47e7-a8a4-794ed6579580');\n",
              "          const dataTable =\n",
              "            await google.colab.kernel.invokeFunction('convertToInteractive',\n",
              "                                                     [key], {});\n",
              "          if (!dataTable) return;\n",
              "\n",
              "          const docLinkHtml = 'Like what you see? Visit the ' +\n",
              "            '<a target=\"_blank\" href=https://colab.research.google.com/notebooks/data_table.ipynb>data table notebook</a>'\n",
              "            + ' to learn more about interactive tables.';\n",
              "          element.innerHTML = '';\n",
              "          dataTable['output_type'] = 'display_data';\n",
              "          await google.colab.output.renderOutput(dataTable, element);\n",
              "          const docLink = document.createElement('div');\n",
              "          docLink.innerHTML = docLinkHtml;\n",
              "          element.appendChild(docLink);\n",
              "        }\n",
              "      </script>\n",
              "    </div>\n",
              "  </div>\n",
              "  "
            ]
          },
          "metadata": {},
          "execution_count": 4
        }
      ]
    },
    {
      "cell_type": "markdown",
      "source": [
        "Creating a list of all the subreddits"
      ],
      "metadata": {
        "id": "pCLVoCj6TyZ8"
      }
    },
    {
      "cell_type": "code",
      "source": [
        "all_subs = []\n",
        "for i in df[\"SOURCE_SUBREDDIT\"]:\n",
        "    if i not in all_subs:\n",
        "        all_subs.append(i)\n",
        "\n",
        "for i in df[\"TARGET_SUBREDDIT\"]:\n",
        "    if i not in all_subs:\n",
        "        all_subs.append(i)"
      ],
      "metadata": {
        "id": "inLyaARaTMKt"
      },
      "execution_count": 8,
      "outputs": []
    },
    {
      "cell_type": "markdown",
      "source": [
        "Mapping the name of the subreddit to the index in the array"
      ],
      "metadata": {
        "id": "6fIYqfJXUPdR"
      }
    },
    {
      "cell_type": "code",
      "source": [
        "sub_index = {}\n",
        "for i in range(len(all_subs)):\n",
        "    sub_index[all_subs[i]] = i"
      ],
      "metadata": {
        "id": "vadH7yHbTUCO"
      },
      "execution_count": 10,
      "outputs": []
    },
    {
      "cell_type": "code",
      "source": [
        "num_nodes = len(all_subs)"
      ],
      "metadata": {
        "id": "4ShKJr1bVYsz"
      },
      "execution_count": 11,
      "outputs": []
    },
    {
      "cell_type": "code",
      "source": [
        "adj_matrix = []\n",
        "for i in range(num_nodes):\n",
        "    curr = []\n",
        "    for j in range(num_nodes):\n",
        "        curr.append(0)\n",
        "    adj_matrix.append(curr)\n",
        "\n",
        "edge_list = []"
      ],
      "metadata": {
        "id": "SaMx7t5lUUD_"
      },
      "execution_count": 12,
      "outputs": []
    },
    {
      "cell_type": "code",
      "source": [
        "for index, row in df.iterrows():\n",
        "    sub1 = row[0]\n",
        "    sub2 = row[1]\n",
        "\n",
        "    id1 = sub_index[sub1]\n",
        "    id2 = sub_index[sub2]\n",
        "\n",
        "    tup = (id1,id2)\n",
        "\n",
        "    adj_matrix[id1][id2] = 1\n",
        "    \n",
        "    if tup not in edge_list:\n",
        "        edge_list.append(tup)"
      ],
      "metadata": {
        "id": "o6w5EUpcWVkU"
      },
      "execution_count": 14,
      "outputs": []
    },
    {
      "cell_type": "markdown",
      "source": [
        "The number of nodes in the graph"
      ],
      "metadata": {
        "id": "Kn7UDQ0mYD9n"
      }
    },
    {
      "cell_type": "code",
      "source": [
        "print(f\"The number of nodes is: {num_nodes}\")"
      ],
      "metadata": {
        "colab": {
          "base_uri": "https://localhost:8080/"
        },
        "id": "KYwC7PcuXE0L",
        "outputId": "8b23561c-7ea6-4c42-af67-ad610d504492"
      },
      "execution_count": 15,
      "outputs": [
        {
          "output_type": "stream",
          "name": "stdout",
          "text": [
            "The number of nodes is: 35776\n"
          ]
        }
      ]
    },
    {
      "cell_type": "markdown",
      "source": [
        "The number of edges in the graph"
      ],
      "metadata": {
        "id": "DL04aURSYICf"
      }
    },
    {
      "cell_type": "code",
      "source": [
        "num_edges = len(edge_list)\n",
        "print(f\"The number of edges is: {num_edges}\")"
      ],
      "metadata": {
        "colab": {
          "base_uri": "https://localhost:8080/"
        },
        "id": "McwQwtFnXLlP",
        "outputId": "bf308ac0-5f2b-40b6-8851-6ca8bacf8a19"
      },
      "execution_count": 16,
      "outputs": [
        {
          "output_type": "stream",
          "name": "stdout",
          "text": [
            "The number of edges is: 137821\n"
          ]
        }
      ]
    },
    {
      "cell_type": "markdown",
      "source": [
        "Average In-Degree: In a directed network, the in-degree of a node is the number of incoming edges to that node. The average in-degree of a network is the sum of in-degrees for all nodes divided by the total number of nodes in the network."
      ],
      "metadata": {
        "id": "16bvmISgZNmA"
      }
    },
    {
      "cell_type": "code",
      "source": [
        "avg_in_degree = num_edges/num_nodes\n",
        "print(f\"The average in-degree is: {avg_in_degree}\")"
      ],
      "metadata": {
        "colab": {
          "base_uri": "https://localhost:8080/"
        },
        "id": "qoKdIZYlZNIR",
        "outputId": "45713507-b5cf-4458-ecdc-5cf43e82c185"
      },
      "execution_count": 18,
      "outputs": [
        {
          "output_type": "stream",
          "name": "stdout",
          "text": [
            "The average in-degree is: 3.8523311717352415\n"
          ]
        }
      ]
    },
    {
      "cell_type": "markdown",
      "source": [
        "Average Out-Degree: In a directed network, the out-degree of a node is the number of outgoing edges from that node. The average out-degree of a network is the sum of out-degrees for all nodes divided by the total number of nodes in the network."
      ],
      "metadata": {
        "id": "cAI3gsyzZzB2"
      }
    },
    {
      "cell_type": "code",
      "source": [
        "avg_out_degree = num_edges/num_nodes\n",
        "print(f\"The average out-degree is: {avg_out_degree}\")"
      ],
      "metadata": {
        "colab": {
          "base_uri": "https://localhost:8080/"
        },
        "id": "kG81pfQBZwNk",
        "outputId": "26787486-c801-437b-fdd4-c625bedfbbd6"
      },
      "execution_count": 20,
      "outputs": [
        {
          "output_type": "stream",
          "name": "stdout",
          "text": [
            "The average out-degree is: 3.8523311717352415\n"
          ]
        }
      ]
    },
    {
      "cell_type": "markdown",
      "source": [
        "Node with Maximum In-Degree: In a directed network, the node with the maximum in-degree is the node that has the highest number of incoming edges."
      ],
      "metadata": {
        "id": "JKQcnUegaNBF"
      }
    },
    {
      "cell_type": "code",
      "source": [
        "max_in_degree = 0\n",
        "max_in_degree_node = None\n",
        "\n",
        "for j in range(num_nodes):\n",
        "    curr_node = all_subs[j]\n",
        "    curr_in_degree = 0\n",
        "    for i in range(num_nodes):\n",
        "        curr_in_degree+=adj_matrix[i][j]\n",
        "\n",
        "    if (curr_in_degree>max_in_degree):\n",
        "        max_in_degree = curr_in_degree\n",
        "        max_in_degree_node = curr_node\n",
        "\n",
        "print(f\"The node with the maximum in degree is {max_in_degree_node} with an in degree of {max_in_degree}\")"
      ],
      "metadata": {
        "colab": {
          "base_uri": "https://localhost:8080/"
        },
        "id": "elzhyIpNaQK9",
        "outputId": "b2c2d9f1-8395-4098-90c5-1d55cfce6fb3"
      },
      "execution_count": 21,
      "outputs": [
        {
          "output_type": "stream",
          "name": "stdout",
          "text": [
            "The node with the maximum in degree is askreddit with an in degree of 2161\n"
          ]
        }
      ]
    },
    {
      "cell_type": "markdown",
      "source": [
        "Node with Maximum Out-Degree: In a directed network, the node with the maximum out-degree is the node that has the highest number of outgoing edges."
      ],
      "metadata": {
        "id": "DcNwZhsTb6CB"
      }
    },
    {
      "cell_type": "code",
      "source": [
        "out_degree_dict = {}\n",
        "\n",
        "max_out_degree = 0\n",
        "max_out_degree_node = None\n",
        "\n",
        "for i in range(num_nodes):\n",
        "    curr_node = all_subs[i]\n",
        "    curr_out_degree = sum(adj_matrix[i])\n",
        "\n",
        "    if (curr_out_degree > max_out_degree):\n",
        "        max_out_degree = curr_out_degree\n",
        "        max_out_degree_node = curr_node\n",
        "\n",
        "    if curr_out_degree not in out_degree_dict:\n",
        "        out_degree_dict[curr_out_degree] = 0\n",
        "    out_degree_dict[curr_out_degree]+=1\n",
        "\n",
        "print(f\"The Maximum Out-Degree is {max_out_degree}. One of the nodes with this out degree is {max_out_degree_node}\")"
      ],
      "metadata": {
        "colab": {
          "base_uri": "https://localhost:8080/"
        },
        "id": "11f0HbZAb5bp",
        "outputId": "a84dc68b-4b5c-4602-88cf-fc2042cffd5d"
      },
      "execution_count": 22,
      "outputs": [
        {
          "output_type": "stream",
          "name": "stdout",
          "text": [
            "The Maximum Out-Degree is 1350. One of the nodes with this out degree is subredditdrama\n"
          ]
        }
      ]
    },
    {
      "cell_type": "markdown",
      "source": [
        "Density of the Network: In a network, the density is the proportion of the total number of edges that are present in the network to the total number of possible edges that could exist."
      ],
      "metadata": {
        "id": "rwTFNG8hdTj4"
      }
    },
    {
      "cell_type": "code",
      "source": [
        "max_edges = num_nodes*(num_nodes - 1)\n",
        "density = num_edges/max_edges\n",
        "print(f\"The density is: {density}\")"
      ],
      "metadata": {
        "colab": {
          "base_uri": "https://localhost:8080/"
        },
        "id": "1omIdK-6dURi",
        "outputId": "db8eddb3-5852-4829-da51-a10156dde819"
      },
      "execution_count": 23,
      "outputs": [
        {
          "output_type": "stream",
          "name": "stdout",
          "text": [
            "The density is: 0.00010768221304640787\n"
          ]
        }
      ]
    },
    {
      "cell_type": "markdown",
      "source": [
        "In degree distribution:"
      ],
      "metadata": {
        "id": "FZeyiDFoeVmG"
      }
    },
    {
      "cell_type": "code",
      "source": [
        "import matplotlib.pyplot as plt"
      ],
      "metadata": {
        "id": "F3Ppga1deZ2c"
      },
      "execution_count": 32,
      "outputs": []
    },
    {
      "cell_type": "code",
      "source": [
        "in_degree_dict = {}\n",
        "\n",
        "for j in range(num_nodes):\n",
        "    curr_in_degree = 0\n",
        "    for i in range(num_nodes):\n",
        "        curr_in_degree+=adj_matrix[i][j]\n",
        "\n",
        "    if (curr_in_degree not in in_degree_dict):\n",
        "        in_degree_dict[curr_in_degree] = 0\n",
        "    in_degree_dict[curr_in_degree]+=1"
      ],
      "metadata": {
        "id": "rZOVoElDhUJF"
      },
      "execution_count": 40,
      "outputs": []
    },
    {
      "cell_type": "code",
      "source": [
        "x_in = list(in_degree_dict.keys())\n",
        "x_in.sort()\n",
        "\n",
        "y_in=[]\n",
        "\n",
        "for i in range(len(x_in)):\n",
        "    curr = in_degree_dict[x_in[i]]\n",
        "    y_in.append(curr)\n",
        "\n",
        "plt.hist(x_in, weights=y_in, bins=30, alpha=0.5)\n",
        "plt.title('Histogram')\n",
        "plt.xlabel('In degree')\n",
        "plt.ylabel('Frequency')\n",
        "plt.show()"
      ],
      "metadata": {
        "colab": {
          "base_uri": "https://localhost:8080/",
          "height": 472
        },
        "id": "gVCNRLQyiPtA",
        "outputId": "104208a3-7f96-484b-932b-ce615591532a"
      },
      "execution_count": 41,
      "outputs": [
        {
          "output_type": "display_data",
          "data": {
            "text/plain": [
              "<Figure size 640x480 with 1 Axes>"
            ],
            "image/png": "[encoded data removed]"
          },
          "metadata": {}
        }
      ]
    },
    {
      "cell_type": "code",
      "source": [
        "x_in = x_in[150:]\n",
        "y_in = y_in[150:]\n",
        "\n",
        "plt.hist(x_in, weights=y_in, bins=30, alpha=0.5)\n",
        "plt.title('Histogram')\n",
        "plt.xlabel('In degree')\n",
        "plt.ylabel('Frequency')\n",
        "plt.show()"
      ],
      "metadata": {
        "colab": {
          "base_uri": "https://localhost:8080/",
          "height": 472
        },
        "id": "9YjygD5PkyPk",
        "outputId": "9b9c1672-00e2-4f8a-c91d-b4a7f683a7cf"
      },
      "execution_count": 44,
      "outputs": [
        {
          "output_type": "display_data",
          "data": {
            "text/plain": [
              "<Figure size 640x480 with 1 Axes>"
            ],
            "image/png": "[encoded data removed]"
          },
          "metadata": {}
        }
      ]
    },
    {
      "cell_type": "markdown",
      "source": [
        "Out degree distribution"
      ],
      "metadata": {
        "id": "k4-wstZoedbE"
      }
    },
    {
      "cell_type": "code",
      "source": [
        "x_out = list(out_degree_dict.keys())\n",
        "x_out.sort()\n",
        "\n",
        "y_out=[]\n",
        "\n",
        "for i in range(len(x_out)):\n",
        "    curr = out_degree_dict[x_out[i]]\n",
        "    y_out.append(curr)\n",
        "\n",
        "plt.hist(x_out, weights=y_out, bins=30, alpha=0.5)\n",
        "plt.title('Histogram')\n",
        "plt.xlabel('Out degree')\n",
        "plt.ylabel('Frequency')\n",
        "plt.show()"
      ],
      "metadata": {
        "colab": {
          "base_uri": "https://localhost:8080/",
          "height": 472
        },
        "id": "987hmvRReck0",
        "outputId": "7e29f209-0d45-4880-aa50-3827e79b17c1"
      },
      "execution_count": 42,
      "outputs": [
        {
          "output_type": "display_data",
          "data": {
            "text/plain": [
              "<Figure size 640x480 with 1 Axes>"
            ],
            "image/png": "[encoded data removed]"
          },
          "metadata": {}
        }
      ]
    },
    {
      "cell_type": "markdown",
      "source": [
        "Omitting the first 200 values"
      ],
      "metadata": {
        "id": "3F2Hut23gRRs"
      }
    },
    {
      "cell_type": "code",
      "source": [
        "x_out = x_out[150:]\n",
        "y_out = y_out[150:]\n",
        "\n",
        "plt.hist(x_out, weights=y_out, bins=30, alpha=0.5)\n",
        "plt.title('Histogram')\n",
        "plt.xlabel('Out degree')\n",
        "plt.ylabel('Frequency')\n",
        "plt.show()"
      ],
      "metadata": {
        "colab": {
          "base_uri": "https://localhost:8080/",
          "height": 472
        },
        "id": "dixY4t6tf2He",
        "outputId": "71f9070e-caab-441c-f6b1-ac4247f70eb5"
      },
      "execution_count": 43,
      "outputs": [
        {
          "output_type": "display_data",
          "data": {
            "text/plain": [
              "<Figure size 640x480 with 1 Axes>"
            ],
            "image/png": "[encoded data removed]"
          },
          "metadata": {}
        }
      ]
    },
    {
      "cell_type": "markdown",
      "source": [
        "Calculating the Local Clustering Coefficient of all Nodes"
      ],
      "metadata": {
        "id": "re7s376fmX-4"
      }
    },
    {
      "cell_type": "code",
      "source": [
        "def calculate_lcc(nodes_arr):\n",
        "    tot_nodes = len(nodes_arr)\n",
        "\n",
        "    if (tot_nodes<2):\n",
        "        return 0\n",
        "        \n",
        "    tot_edges = 0\n",
        "    \n",
        "    for i in nodes_arr:\n",
        "        for j in nodes_arr:\n",
        "            if adj_matrix[i][j]:\n",
        "                tot_edges+=1\n",
        "\n",
        "    lcc = tot_edges/(tot_nodes*(tot_nodes-1))\n",
        "\n",
        "    return lcc"
      ],
      "metadata": {
        "id": "1cY67_Pcn8ke"
      },
      "execution_count": 48,
      "outputs": []
    },
    {
      "cell_type": "code",
      "source": [
        "lcc_dict_unweighted = {}\n",
        "lcc_dict_weighted = {}\n",
        "\n",
        "for i in range(num_nodes):\n",
        "    \n",
        "    in_nodes = []\n",
        "    out_nodes = []\n",
        "\n",
        "    for j in range(num_nodes):\n",
        "        if adj_matrix[j][i] == 1:\n",
        "            in_nodes.append(j)\n",
        "\n",
        "    for j in range(num_nodes):\n",
        "        if adj_matrix[i][j] == 1:\n",
        "            out_nodes.append(i)\n",
        "\n",
        "    in_lcc = calculate_lcc(in_nodes)\n",
        "    out_lcc = calculate_lcc(out_nodes)\n",
        "\n",
        "    unweighted_lcc = round((in_lcc+out_lcc)/2,2)\n",
        "    weighted_lcc = round((len(in_nodes)*in_lcc + len(out_nodes)*out_lcc)/(len(in_nodes)+len(out_nodes)),2)\n",
        "\n",
        "    if (unweighted_lcc not in lcc_dict_unweighted):\n",
        "        lcc_dict_unweighted[unweighted_lcc] = 0\n",
        "    lcc_dict_unweighted[unweighted_lcc]+=1\n",
        "\n",
        "    if (weighted_lcc not in lcc_dict_weighted):\n",
        "        lcc_dict_weighted[weighted_lcc] = 0\n",
        "    lcc_dict_weighted[weighted_lcc]+=1"
      ],
      "metadata": {
        "id": "tLFGv5R8mQdA"
      },
      "execution_count": 49,
      "outputs": []
    },
    {
      "cell_type": "markdown",
      "source": [
        "Unweighted Local Clustering Coefficients"
      ],
      "metadata": {
        "id": "GE0h4qwIq8-X"
      }
    },
    {
      "cell_type": "code",
      "source": [
        "x_un = list(lcc_dict_unweighted.keys())\n",
        "x_un.sort()\n",
        "\n",
        "y_un=[]\n",
        "\n",
        "for i in range(len(x_un)):\n",
        "    curr = lcc_dict_unweighted[x_un[i]]\n",
        "    y_un.append(curr)\n",
        "\n",
        "plt.hist(x_un, weights=y_un, alpha=0.5)\n",
        "plt.title('Histogram')\n",
        "plt.xlabel('Unweighted Local Clustering Coefficient')\n",
        "plt.ylabel('Frequency')\n",
        "plt.show()"
      ],
      "metadata": {
        "colab": {
          "base_uri": "https://localhost:8080/",
          "height": 472
        },
        "id": "EaLbnqIAqmrM",
        "outputId": "c0f06dc3-faaf-4fb6-b755-8606bcf4a345"
      },
      "execution_count": 51,
      "outputs": [
        {
          "output_type": "display_data",
          "data": {
            "text/plain": [
              "<Figure size 640x480 with 1 Axes>"
            ],
            "image/png": "[encoded data removed]"
          },
          "metadata": {}
        }
      ]
    },
    {
      "cell_type": "markdown",
      "source": [
        "Weighted Local Clustering Coefficients"
      ],
      "metadata": {
        "id": "YaB_6rIdrA5m"
      }
    },
    {
      "cell_type": "code",
      "source": [
        "x_w = list(lcc_dict_weighted.keys())\n",
        "x_w.sort()\n",
        "\n",
        "y_w=[]\n",
        "\n",
        "for i in range(len(x_w)):\n",
        "    curr = lcc_dict_weighted[x_w[i]]\n",
        "    y_w.append(curr)\n",
        "\n",
        "plt.hist(x_w, weights=y_w, alpha=0.5)\n",
        "plt.title('Histogram')\n",
        "plt.xlabel('Weighted Local Clustering Coefficient')\n",
        "plt.ylabel('Frequency')\n",
        "plt.show()"
      ],
      "metadata": {
        "colab": {
          "base_uri": "https://localhost:8080/",
          "height": 472
        },
        "id": "gT6_2C69rDrg",
        "outputId": "15d18708-aab1-457d-d438-9a19a006ed34"
      },
      "execution_count": 52,
      "outputs": [
        {
          "output_type": "display_data",
          "data": {
            "text/plain": [
              "<Figure size 640x480 with 1 Axes>"
            ],
            "image/png": "[encoded data removed]"
          },
          "metadata": {}
        }
      ]
    },
    {
      "cell_type": "markdown",
      "source": [
        "Question 2"
      ],
      "metadata": {
        "id": "F1r413bmsa05"
      }
    },
    {
      "cell_type": "code",
      "source": [
        "!pip install networkx"
      ],
      "metadata": {
        "colab": {
          "base_uri": "https://localhost:8080/"
        },
        "id": "9dPT9D_Csj9X",
        "outputId": "6b100342-a4c7-475b-fec1-af5eb8f0f8ca"
      },
      "execution_count": 53,
      "outputs": [
        {
          "output_type": "stream",
          "name": "stdout",
          "text": [
            "Looking in indexes: https://pypi.org/simple, https://us-python.pkg.dev/colab-wheels/public/simple/\n",
            "Requirement already satisfied: networkx in /usr/local/lib/python3.9/dist-packages (3.1)\n"
          ]
        }
      ]
    },
    {
      "cell_type": "code",
      "source": [
        "import networkx as nx"
      ],
      "metadata": {
        "id": "54VfdQmrsfjz"
      },
      "execution_count": 54,
      "outputs": []
    },
    {
      "cell_type": "code",
      "source": [
        "G = nx.DiGraph()\n",
        "G.add_edges_from(edge_list)"
      ],
      "metadata": {
        "id": "zBxYbUTasmV8"
      },
      "execution_count": 55,
      "outputs": []
    },
    {
      "cell_type": "markdown",
      "source": [
        "PageRank score for each node"
      ],
      "metadata": {
        "id": "-wd3wc_ks9Vf"
      }
    },
    {
      "cell_type": "code",
      "source": [
        "pr = nx.pagerank(G, alpha=0.85, tol = 1e-6)"
      ],
      "metadata": {
        "id": "gm8OCGMrtAUS"
      },
      "execution_count": 56,
      "outputs": []
    },
    {
      "cell_type": "markdown",
      "source": [
        "Authority and Hub score for each node"
      ],
      "metadata": {
        "id": "2knkTV63uLR4"
      }
    },
    {
      "cell_type": "code",
      "source": [
        "auth_scores, hub_scores = nx.hits(G, max_iter=100, tol=1e-6, normalized=True)"
      ],
      "metadata": {
        "id": "YATcKXUcuMW2"
      },
      "execution_count": 57,
      "outputs": []
    },
    {
      "cell_type": "markdown",
      "source": [
        "Comparing the scores"
      ],
      "metadata": {
        "id": "kSFYDPOUuVl1"
      }
    },
    {
      "cell_type": "code",
      "source": [
        "pr_arr = []\n",
        "auth_arr = []\n",
        "hub_arr = []\n",
        "\n",
        "for i in range(num_nodes):\n",
        "    pr_arr.append(pr[i])\n",
        "    auth_arr.append(auth_scores[i])\n",
        "    hub_arr.append(hub_scores[i])"
      ],
      "metadata": {
        "id": "DOJdwImwvCOe"
      },
      "execution_count": 69,
      "outputs": []
    },
    {
      "cell_type": "code",
      "source": [
        "score_df = pd.DataFrame({\"Subreddit\":all_subs, \"Page Rank Score\":pr_arr, \"Authority Score\":auth_arr, \"Hub Score\":hub_arr})"
      ],
      "metadata": {
        "id": "fkUo0VruuWrk"
      },
      "execution_count": 70,
      "outputs": []
    },
    {
      "cell_type": "code",
      "source": [
        "score_df.head(50)"
      ],
      "metadata": {
        "colab": {
          "base_uri": "https://localhost:8080/",
          "height": 1000
        },
        "id": "A7Ia_QplvvoY",
        "outputId": "9bc99c3c-5a3a-45fc-d9fa-513b5dba6ba4"
      },
      "execution_count": 75,
      "outputs": [
        {
          "output_type": "execute_result",
          "data": {
            "text/plain": [
              "                Subreddit  Page Rank Score  Authority Score     Hub Score\n",
              "0         leagueoflegends         0.003620     1.163430e-03  2.498304e-03\n",
              "1              theredlion         0.000009     2.271660e-04  5.831212e-05\n",
              "2            inlandempire         0.000021     1.612344e-05  8.249749e-05\n",
              "3                     nfl         0.001360     3.280045e-04  1.745093e-03\n",
              "4              playmygame         0.000134     1.694628e-04  4.655423e-05\n",
              "5              dogemarket         0.000556     1.250484e-04  1.668185e-04\n",
              "6             locationbot         0.000008     2.093679e-05 -4.413526e-20\n",
              "7               indiefied         0.000008     8.394780e-05 -1.111755e-21\n",
              "8            posthardcore         0.000129     2.054244e-05  9.417477e-05\n",
              "9                  gfycat         0.000054     1.144397e-04  8.389728e-05\n",
              "10              metalcore         0.000241     1.279605e-04  2.458380e-04\n",
              "11           suicidewatch         0.000285     1.136582e-03  6.733366e-04\n",
              "12               dogecoin         0.001557     1.364454e-03  1.116510e-03\n",
              "13          gaming4gamers         0.000153     2.434257e-04  2.225257e-04\n",
              "14                   kpop         0.000528     1.401760e-04  2.056614e-04\n",
              "15                airsoft         0.000155     1.452343e-04  1.229969e-04\n",
              "16            circlebroke         0.000189     2.802280e-03  9.133764e-04\n",
              "17                 tribes         0.000100     9.797449e-05  6.188071e-05\n",
              "18      oldschoolcoolnsfw         0.000008     4.144317e-05  4.694807e-06\n",
              "19              fl_vapers         0.000008     5.662893e-06 -2.166050e-21\n",
              "20              jailbreak         0.000696     4.549242e-04  5.798537e-04\n",
              "21               corejerk         0.000035     2.374624e-05  2.266688e-06\n",
              "22                   iama         0.010201     1.984977e-03  6.984161e-03\n",
              "23              bandnames         0.000047     1.553273e-03  6.901162e-05\n",
              "24      thedoctorstravels         0.000008     2.474032e-07  8.994189e-21\n",
              "25    politicaldiscussion         0.000423     5.590918e-04  1.340707e-03\n",
              "26        uncomfortableqs         0.000008     4.365720e-06  2.725438e-21\n",
              "27            connecticut         0.000055     1.129744e-04  1.474284e-04\n",
              "28  metafitnesscirclejerk         0.000008     1.082435e-06 -1.222571e-21\n",
              "29               srssucks         0.000072     8.861797e-04  7.019275e-04\n",
              "30           thehiddenbar         0.000008     1.727520e-05  2.563544e-21\n",
              "31    circlejerkcopypasta         0.000058     2.758535e-03  3.098134e-04\n",
              "32        karmaconspiracy         0.000023     7.945526e-04  1.070663e-04\n",
              "33          denverbroncos         0.000169     8.956127e-05  7.088236e-05\n",
              "34              askreddit         0.011211     2.312622e-03  8.850827e-03\n",
              "35               civcraft         0.000926     2.275142e-04  2.913013e-04\n",
              "36                gaybros         0.000182     3.397570e-04  3.097333e-04\n",
              "37           turntablists         0.000011     2.268494e-06  2.221317e-07\n",
              "38       minecraftbattles         0.000008     7.832403e-06  4.479835e-20\n",
              "39        highqualitygifs         0.000357     1.923744e-04  7.521540e-04\n",
              "40           reactiongifs         0.000250     4.060369e-06  1.200809e-03\n",
              "41               badkarma         0.000053     3.885435e-04  7.737923e-06\n",
              "42         writingprompts         0.004091     2.017767e-03  2.340920e-03\n",
              "43              bluebirds         0.000008     4.818704e-05 -3.536256e-21\n",
              "44        askanthropology         0.000043     2.935576e-04  1.301086e-04\n",
              "45          hailcorporate         0.000125     2.445082e-03  8.610421e-04\n",
              "46             badhistory         0.000327     1.678937e-03  8.942319e-04\n",
              "47         jobs4dogecoins         0.000025     1.024598e-05  2.504317e-05\n",
              "48        swoleacceptance         0.000033     8.520483e-04  9.931301e-05\n",
              "49           conspiratard         0.000072     6.810287e-04  5.465744e-04"
            ],
            "text/html": [
              "\n",
              "  <div id=\"df-522cfe5f-8446-4dc9-88af-92ff8aec4fa2\">\n",
              "    <div class=\"colab-df-container\">\n",
              "      <div>\n",
              "<style scoped>\n",
              "    .dataframe tbody tr th:only-of-type {\n",
              "        vertical-align: middle;\n",
              "    }\n",
              "\n",
              "    .dataframe tbody tr th {\n",
              "        vertical-align: top;\n",
              "    }\n",
              "\n",
              "    .dataframe thead th {\n",
              "        text-align: right;\n",
              "    }\n",
              "</style>\n",
              "<table border=\"1\" class=\"dataframe\">\n",
              "  <thead>\n",
              "    <tr style=\"text-align: right;\">\n",
              "      <th></th>\n",
              "      <th>Subreddit</th>\n",
              "      <th>Page Rank Score</th>\n",
              "      <th>Authority Score</th>\n",
              "      <th>Hub Score</th>\n",
              "    </tr>\n",
              "  </thead>\n",
              "  <tbody>\n",
              "    <tr>\n",
              "      <th>0</th>\n",
              "      <td>leagueoflegends</td>\n",
              "      <td>0.003620</td>\n",
              "      <td>1.163430e-03</td>\n",
              "      <td>2.498304e-03</td>\n",
              "    </tr>\n",
              "    <tr>\n",
              "      <th>1</th>\n",
              "      <td>theredlion</td>\n",
              "      <td>0.000009</td>\n",
              "      <td>2.271660e-04</td>\n",
              "      <td>5.831212e-05</td>\n",
              "    </tr>\n",
              "    <tr>\n",
              "      <th>2</th>\n",
              "      <td>inlandempire</td>\n",
              "      <td>0.000021</td>\n",
              "      <td>1.612344e-05</td>\n",
              "      <td>8.249749e-05</td>\n",
              "    </tr>\n",
              "    <tr>\n",
              "      <th>3</th>\n",
              "      <td>nfl</td>\n",
              "      <td>0.001360</td>\n",
              "      <td>3.280045e-04</td>\n",
              "      <td>1.745093e-03</td>\n",
              "    </tr>\n",
              "    <tr>\n",
              "      <th>4</th>\n",
              "      <td>playmygame</td>\n",
              "      <td>0.000134</td>\n",
              "      <td>1.694628e-04</td>\n",
              "      <td>4.655423e-05</td>\n",
              "    </tr>\n",
              "    <tr>\n",
              "      <th>5</th>\n",
              "      <td>dogemarket</td>\n",
              "      <td>0.000556</td>\n",
              "      <td>1.250484e-04</td>\n",
              "      <td>1.668185e-04</td>\n",
              "    </tr>\n",
              "    <tr>\n",
              "      <th>6</th>\n",
              "      <td>locationbot</td>\n",
              "      <td>0.000008</td>\n",
              "      <td>2.093679e-05</td>\n",
              "      <td>-4.413526e-20</td>\n",
              "    </tr>\n",
              "    <tr>\n",
              "      <th>7</th>\n",
              "      <td>indiefied</td>\n",
              "      <td>0.000008</td>\n",
              "      <td>8.394780e-05</td>\n",
              "      <td>-1.111755e-21</td>\n",
              "    </tr>\n",
              "    <tr>\n",
              "      <th>8</th>\n",
              "      <td>posthardcore</td>\n",
              "      <td>0.000129</td>\n",
              "      <td>2.054244e-05</td>\n",
              "      <td>9.417477e-05</td>\n",
              "    </tr>\n",
              "    <tr>\n",
              "      <th>9</th>\n",
              "      <td>gfycat</td>\n",
              "      <td>0.000054</td>\n",
              "      <td>1.144397e-04</td>\n",
              "      <td>8.389728e-05</td>\n",
              "    </tr>\n",
              "    <tr>\n",
              "      <th>10</th>\n",
              "      <td>metalcore</td>\n",
              "      <td>0.000241</td>\n",
              "      <td>1.279605e-04</td>\n",
              "      <td>2.458380e-04</td>\n",
              "    </tr>\n",
              "    <tr>\n",
              "      <th>11</th>\n",
              "      <td>suicidewatch</td>\n",
              "      <td>0.000285</td>\n",
              "      <td>1.136582e-03</td>\n",
              "      <td>6.733366e-04</td>\n",
              "    </tr>\n",
              "    <tr>\n",
              "      <th>12</th>\n",
              "      <td>dogecoin</td>\n",
              "      <td>0.001557</td>\n",
              "      <td>1.364454e-03</td>\n",
              "      <td>1.116510e-03</td>\n",
              "    </tr>\n",
              "    <tr>\n",
              "      <th>13</th>\n",
              "      <td>gaming4gamers</td>\n",
              "      <td>0.000153</td>\n",
              "      <td>2.434257e-04</td>\n",
              "      <td>2.225257e-04</td>\n",
              "    </tr>\n",
              "    <tr>\n",
              "      <th>14</th>\n",
              "      <td>kpop</td>\n",
              "      <td>0.000528</td>\n",
              "      <td>1.401760e-04</td>\n",
              "      <td>2.056614e-04</td>\n",
              "    </tr>\n",
              "    <tr>\n",
              "      <th>15</th>\n",
              "      <td>airsoft</td>\n",
              "      <td>0.000155</td>\n",
              "      <td>1.452343e-04</td>\n",
              "      <td>1.229969e-04</td>\n",
              "    </tr>\n",
              "    <tr>\n",
              "      <th>16</th>\n",
              "      <td>circlebroke</td>\n",
              "      <td>0.000189</td>\n",
              "      <td>2.802280e-03</td>\n",
              "      <td>9.133764e-04</td>\n",
              "    </tr>\n",
              "    <tr>\n",
              "      <th>17</th>\n",
              "      <td>tribes</td>\n",
              "      <td>0.000100</td>\n",
              "      <td>9.797449e-05</td>\n",
              "      <td>6.188071e-05</td>\n",
              "    </tr>\n",
              "    <tr>\n",
              "      <th>18</th>\n",
              "      <td>oldschoolcoolnsfw</td>\n",
              "      <td>0.000008</td>\n",
              "      <td>4.144317e-05</td>\n",
              "      <td>4.694807e-06</td>\n",
              "    </tr>\n",
              "    <tr>\n",
              "      <th>19</th>\n",
              "      <td>fl_vapers</td>\n",
              "      <td>0.000008</td>\n",
              "      <td>5.662893e-06</td>\n",
              "      <td>-2.166050e-21</td>\n",
              "    </tr>\n",
              "    <tr>\n",
              "      <th>20</th>\n",
              "      <td>jailbreak</td>\n",
              "      <td>0.000696</td>\n",
              "      <td>4.549242e-04</td>\n",
              "      <td>5.798537e-04</td>\n",
              "    </tr>\n",
              "    <tr>\n",
              "      <th>21</th>\n",
              "      <td>corejerk</td>\n",
              "      <td>0.000035</td>\n",
              "      <td>2.374624e-05</td>\n",
              "      <td>2.266688e-06</td>\n",
              "    </tr>\n",
              "    <tr>\n",
              "      <th>22</th>\n",
              "      <td>iama</td>\n",
              "      <td>0.010201</td>\n",
              "      <td>1.984977e-03</td>\n",
              "      <td>6.984161e-03</td>\n",
              "    </tr>\n",
              "    <tr>\n",
              "      <th>23</th>\n",
              "      <td>bandnames</td>\n",
              "      <td>0.000047</td>\n",
              "      <td>1.553273e-03</td>\n",
              "      <td>6.901162e-05</td>\n",
              "    </tr>\n",
              "    <tr>\n",
              "      <th>24</th>\n",
              "      <td>thedoctorstravels</td>\n",
              "      <td>0.000008</td>\n",
              "      <td>2.474032e-07</td>\n",
              "      <td>8.994189e-21</td>\n",
              "    </tr>\n",
              "    <tr>\n",
              "      <th>25</th>\n",
              "      <td>politicaldiscussion</td>\n",
              "      <td>0.000423</td>\n",
              "      <td>5.590918e-04</td>\n",
              "      <td>1.340707e-03</td>\n",
              "    </tr>\n",
              "    <tr>\n",
              "      <th>26</th>\n",
              "      <td>uncomfortableqs</td>\n",
              "      <td>0.000008</td>\n",
              "      <td>4.365720e-06</td>\n",
              "      <td>2.725438e-21</td>\n",
              "    </tr>\n",
              "    <tr>\n",
              "      <th>27</th>\n",
              "      <td>connecticut</td>\n",
              "      <td>0.000055</td>\n",
              "      <td>1.129744e-04</td>\n",
              "      <td>1.474284e-04</td>\n",
              "    </tr>\n",
              "    <tr>\n",
              "      <th>28</th>\n",
              "      <td>metafitnesscirclejerk</td>\n",
              "      <td>0.000008</td>\n",
              "      <td>1.082435e-06</td>\n",
              "      <td>-1.222571e-21</td>\n",
              "    </tr>\n",
              "    <tr>\n",
              "      <th>29</th>\n",
              "      <td>srssucks</td>\n",
              "      <td>0.000072</td>\n",
              "      <td>8.861797e-04</td>\n",
              "      <td>7.019275e-04</td>\n",
              "    </tr>\n",
              "    <tr>\n",
              "      <th>30</th>\n",
              "      <td>thehiddenbar</td>\n",
              "      <td>0.000008</td>\n",
              "      <td>1.727520e-05</td>\n",
              "      <td>2.563544e-21</td>\n",
              "    </tr>\n",
              "    <tr>\n",
              "      <th>31</th>\n",
              "      <td>circlejerkcopypasta</td>\n",
              "      <td>0.000058</td>\n",
              "      <td>2.758535e-03</td>\n",
              "      <td>3.098134e-04</td>\n",
              "    </tr>\n",
              "    <tr>\n",
              "      <th>32</th>\n",
              "      <td>karmaconspiracy</td>\n",
              "      <td>0.000023</td>\n",
              "      <td>7.945526e-04</td>\n",
              "      <td>1.070663e-04</td>\n",
              "    </tr>\n",
              "    <tr>\n",
              "      <th>33</th>\n",
              "      <td>denverbroncos</td>\n",
              "      <td>0.000169</td>\n",
              "      <td>8.956127e-05</td>\n",
              "      <td>7.088236e-05</td>\n",
              "    </tr>\n",
              "    <tr>\n",
              "      <th>34</th>\n",
              "      <td>askreddit</td>\n",
              "      <td>0.011211</td>\n",
              "      <td>2.312622e-03</td>\n",
              "      <td>8.850827e-03</td>\n",
              "    </tr>\n",
              "    <tr>\n",
              "      <th>35</th>\n",
              "      <td>civcraft</td>\n",
              "      <td>0.000926</td>\n",
              "      <td>2.275142e-04</td>\n",
              "      <td>2.913013e-04</td>\n",
              "    </tr>\n",
              "    <tr>\n",
              "      <th>36</th>\n",
              "      <td>gaybros</td>\n",
              "      <td>0.000182</td>\n",
              "      <td>3.397570e-04</td>\n",
              "      <td>3.097333e-04</td>\n",
              "    </tr>\n",
              "    <tr>\n",
              "      <th>37</th>\n",
              "      <td>turntablists</td>\n",
              "      <td>0.000011</td>\n",
              "      <td>2.268494e-06</td>\n",
              "      <td>2.221317e-07</td>\n",
              "    </tr>\n",
              "    <tr>\n",
              "      <th>38</th>\n",
              "      <td>minecraftbattles</td>\n",
              "      <td>0.000008</td>\n",
              "      <td>7.832403e-06</td>\n",
              "      <td>4.479835e-20</td>\n",
              "    </tr>\n",
              "    <tr>\n",
              "      <th>39</th>\n",
              "      <td>highqualitygifs</td>\n",
              "      <td>0.000357</td>\n",
              "      <td>1.923744e-04</td>\n",
              "      <td>7.521540e-04</td>\n",
              "    </tr>\n",
              "    <tr>\n",
              "      <th>40</th>\n",
              "      <td>reactiongifs</td>\n",
              "      <td>0.000250</td>\n",
              "      <td>4.060369e-06</td>\n",
              "      <td>1.200809e-03</td>\n",
              "    </tr>\n",
              "    <tr>\n",
              "      <th>41</th>\n",
              "      <td>badkarma</td>\n",
              "      <td>0.000053</td>\n",
              "      <td>3.885435e-04</td>\n",
              "      <td>7.737923e-06</td>\n",
              "    </tr>\n",
              "    <tr>\n",
              "      <th>42</th>\n",
              "      <td>writingprompts</td>\n",
              "      <td>0.004091</td>\n",
              "      <td>2.017767e-03</td>\n",
              "      <td>2.340920e-03</td>\n",
              "    </tr>\n",
              "    <tr>\n",
              "      <th>43</th>\n",
              "      <td>bluebirds</td>\n",
              "      <td>0.000008</td>\n",
              "      <td>4.818704e-05</td>\n",
              "      <td>-3.536256e-21</td>\n",
              "    </tr>\n",
              "    <tr>\n",
              "      <th>44</th>\n",
              "      <td>askanthropology</td>\n",
              "      <td>0.000043</td>\n",
              "      <td>2.935576e-04</td>\n",
              "      <td>1.301086e-04</td>\n",
              "    </tr>\n",
              "    <tr>\n",
              "      <th>45</th>\n",
              "      <td>hailcorporate</td>\n",
              "      <td>0.000125</td>\n",
              "      <td>2.445082e-03</td>\n",
              "      <td>8.610421e-04</td>\n",
              "    </tr>\n",
              "    <tr>\n",
              "      <th>46</th>\n",
              "      <td>badhistory</td>\n",
              "      <td>0.000327</td>\n",
              "      <td>1.678937e-03</td>\n",
              "      <td>8.942319e-04</td>\n",
              "    </tr>\n",
              "    <tr>\n",
              "      <th>47</th>\n",
              "      <td>jobs4dogecoins</td>\n",
              "      <td>0.000025</td>\n",
              "      <td>1.024598e-05</td>\n",
              "      <td>2.504317e-05</td>\n",
              "    </tr>\n",
              "    <tr>\n",
              "      <th>48</th>\n",
              "      <td>swoleacceptance</td>\n",
              "      <td>0.000033</td>\n",
              "      <td>8.520483e-04</td>\n",
              "      <td>9.931301e-05</td>\n",
              "    </tr>\n",
              "    <tr>\n",
              "      <th>49</th>\n",
              "      <td>conspiratard</td>\n",
              "      <td>0.000072</td>\n",
              "      <td>6.810287e-04</td>\n",
              "      <td>5.465744e-04</td>\n",
              "    </tr>\n",
              "  </tbody>\n",
              "</table>\n",
              "</div>\n",
              "      <button class=\"colab-df-convert\" onclick=\"convertToInteractive('df-522cfe5f-8446-4dc9-88af-92ff8aec4fa2')\"\n",
              "              title=\"Convert this dataframe to an interactive table.\"\n",
              "              style=\"display:none;\">\n",
              "        \n",
              "  <svg xmlns=\"http://www.w3.org/2000/svg\" height=\"24px\"viewBox=\"0 0 24 24\"\n",
              "       width=\"24px\">\n",
              "    <path d=\"M0 0h24v24H0V0z\" fill=\"none\"/>\n",
              "    <path d=\"M18.56 5.44l.94 2.06.94-2.06 2.06-.94-2.06-.94-.94-2.06-.94 2.06-2.06.94zm-11 1L8.5 8.5l.94-2.06 2.06-.94-2.06-.94L8.5 2.5l-.94 2.06-2.06.94zm10 10l.94 2.06.94-2.06 2.06-.94-2.06-.94-.94-2.06-.94 2.06-2.06.94z\"/><path d=\"M17.41 7.96l-1.37-1.37c-.4-.4-.92-.59-1.43-.59-.52 0-1.04.2-1.43.59L10.3 9.45l-7.72 7.72c-.78.78-.78 2.05 0 2.83L4 21.41c.39.39.9.59 1.41.59.51 0 1.02-.2 1.41-.59l7.78-7.78 2.81-2.81c.8-.78.8-2.07 0-2.86zM5.41 20L4 18.59l7.72-7.72 1.47 1.35L5.41 20z\"/>\n",
              "  </svg>\n",
              "      </button>\n",
              "      \n",
              "  <style>\n",
              "    .colab-df-container {\n",
              "      display:flex;\n",
              "      flex-wrap:wrap;\n",
              "      gap: 12px;\n",
              "    }\n",
              "\n",
              "    .colab-df-convert {\n",
              "      background-color: #E8F0FE;\n",
              "      border: none;\n",
              "      border-radius: 50%;\n",
              "      cursor: pointer;\n",
              "      display: none;\n",
              "      fill: #1967D2;\n",
              "      height: 32px;\n",
              "      padding: 0 0 0 0;\n",
              "      width: 32px;\n",
              "    }\n",
              "\n",
              "    .colab-df-convert:hover {\n",
              "      background-color: #E2EBFA;\n",
              "      box-shadow: 0px 1px 2px rgba(60, 64, 67, 0.3), 0px 1px 3px 1px rgba(60, 64, 67, 0.15);\n",
              "      fill: #174EA6;\n",
              "    }\n",
              "\n",
              "    [theme=dark] .colab-df-convert {\n",
              "      background-color: #3B4455;\n",
              "      fill: #D2E3FC;\n",
              "    }\n",
              "\n",
              "    [theme=dark] .colab-df-convert:hover {\n",
              "      background-color: #434B5C;\n",
              "      box-shadow: 0px 1px 3px 1px rgba(0, 0, 0, 0.15);\n",
              "      filter: drop-shadow(0px 1px 2px rgba(0, 0, 0, 0.3));\n",
              "      fill: #FFFFFF;\n",
              "    }\n",
              "  </style>\n",
              "\n",
              "      <script>\n",
              "        const buttonEl =\n",
              "          document.querySelector('#df-522cfe5f-8446-4dc9-88af-92ff8aec4fa2 button.colab-df-convert');\n",
              "        buttonEl.style.display =\n",
              "          google.colab.kernel.accessAllowed ? 'block' : 'none';\n",
              "\n",
              "        async function convertToInteractive(key) {\n",
              "          const element = document.querySelector('#df-522cfe5f-8446-4dc9-88af-92ff8aec4fa2');\n",
              "          const dataTable =\n",
              "            await google.colab.kernel.invokeFunction('convertToInteractive',\n",
              "                                                     [key], {});\n",
              "          if (!dataTable) return;\n",
              "\n",
              "          const docLinkHtml = 'Like what you see? Visit the ' +\n",
              "            '<a target=\"_blank\" href=https://colab.research.google.com/notebooks/data_table.ipynb>data table notebook</a>'\n",
              "            + ' to learn more about interactive tables.';\n",
              "          element.innerHTML = '';\n",
              "          dataTable['output_type'] = 'display_data';\n",
              "          await google.colab.output.renderOutput(dataTable, element);\n",
              "          const docLink = document.createElement('div');\n",
              "          docLink.innerHTML = docLinkHtml;\n",
              "          element.appendChild(docLink);\n",
              "        }\n",
              "      </script>\n",
              "    </div>\n",
              "  </div>\n",
              "  "
            ]
          },
          "metadata": {},
          "execution_count": 75
        }
      ]
    },
    {
      "cell_type": "code",
      "source": [
        "corr_pr_a = score_df['Page Rank Score'].corr(score_df['Authority Score'], method='pearson')\n",
        "corr_pr_h = score_df['Page Rank Score'].corr(score_df['Hub Score'], method='pearson')\n",
        "corr_a_h = score_df['Authority Score'].corr(score_df['Hub Score'], method='pearson')"
      ],
      "metadata": {
        "id": "d_VSWsF_5kDy"
      },
      "execution_count": 77,
      "outputs": []
    },
    {
      "cell_type": "code",
      "source": [
        "print(f\"The correlation between Page Rank Score and Authority Score is {corr_pr_a}\")\n",
        "print(f\"The correlation between Page Rank Score and Hub Score is {corr_pr_h}\")\n",
        "print(f\"The correlation between Authority Score and Hub Score is {corr_a_h}\")"
      ],
      "metadata": {
        "colab": {
          "base_uri": "https://localhost:8080/"
        },
        "id": "iyvFXk4F6AOm",
        "outputId": "fb3c4cb9-7f2e-4954-80d1-b3feeaca3afb"
      },
      "execution_count": 80,
      "outputs": [
        {
          "output_type": "stream",
          "name": "stdout",
          "text": [
            "The correlation between Page Rank Score and Authority Score is 0.44667468261192805\n",
            "The correlation between Page Rank Score and Hub Score is 0.8485383243837176\n",
            "The correlation between Authority Score and Hub Score is 0.5551260436796563\n"
          ]
        }
      ]
    }
  ]
}